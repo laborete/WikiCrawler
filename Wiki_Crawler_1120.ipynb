{
 "cells": [
  {
   "cell_type": "code",
   "execution_count": 1,
   "metadata": {},
   "outputs": [
    {
     "name": "stdout",
     "output_type": "stream",
     "text": [
      "Requirement already satisfied: wikipedia in /Library/Frameworks/Python.framework/Versions/3.6/lib/python3.6/site-packages (1.4.0)\n",
      "Requirement already satisfied: beautifulsoup4 in /Library/Frameworks/Python.framework/Versions/3.6/lib/python3.6/site-packages (from wikipedia) (4.6.3)\n",
      "Requirement already satisfied: requests<3.0.0,>=2.0.0 in /Library/Frameworks/Python.framework/Versions/3.6/lib/python3.6/site-packages (from wikipedia) (2.19.1)\n",
      "Requirement already satisfied: chardet<3.1.0,>=3.0.2 in /Library/Frameworks/Python.framework/Versions/3.6/lib/python3.6/site-packages (from requests<3.0.0,>=2.0.0->wikipedia) (3.0.4)\n",
      "Requirement already satisfied: certifi>=2017.4.17 in /Library/Frameworks/Python.framework/Versions/3.6/lib/python3.6/site-packages (from requests<3.0.0,>=2.0.0->wikipedia) (2018.10.15)\n",
      "Requirement already satisfied: idna<2.8,>=2.5 in /Library/Frameworks/Python.framework/Versions/3.6/lib/python3.6/site-packages (from requests<3.0.0,>=2.0.0->wikipedia) (2.7)\n",
      "Requirement already satisfied: urllib3<1.24,>=1.21.1 in /Library/Frameworks/Python.framework/Versions/3.6/lib/python3.6/site-packages (from requests<3.0.0,>=2.0.0->wikipedia) (1.23)\n",
      "Requirement already satisfied: wikipedia-api in /Library/Frameworks/Python.framework/Versions/3.6/lib/python3.6/site-packages (0.3.7)\n",
      "Requirement already satisfied: requests in /Library/Frameworks/Python.framework/Versions/3.6/lib/python3.6/site-packages (from wikipedia-api) (2.19.1)\n",
      "Requirement already satisfied: chardet<3.1.0,>=3.0.2 in /Library/Frameworks/Python.framework/Versions/3.6/lib/python3.6/site-packages (from requests->wikipedia-api) (3.0.4)\n",
      "Requirement already satisfied: urllib3<1.24,>=1.21.1 in /Library/Frameworks/Python.framework/Versions/3.6/lib/python3.6/site-packages (from requests->wikipedia-api) (1.23)\n",
      "Requirement already satisfied: certifi>=2017.4.17 in /Library/Frameworks/Python.framework/Versions/3.6/lib/python3.6/site-packages (from requests->wikipedia-api) (2018.10.15)\n",
      "Requirement already satisfied: idna<2.8,>=2.5 in /Library/Frameworks/Python.framework/Versions/3.6/lib/python3.6/site-packages (from requests->wikipedia-api) (2.7)\n"
     ]
    }
   ],
   "source": [
    "#要先install wikipedia 以及 wikipedia-api（用pip）\n",
    "!pip install wikipedia\n",
    "!pip install wikipedia-api\n",
    "import wikipedia as wiki\n",
    "import wikipediaapi as wikiapi\n",
    "source = wikiapi.Wikipedia('zh-tw')\n",
    "\n",
    "import numpy as np\n",
    "import csv\n",
    "import time\n",
    "import random \n",
    "\n",
    "#總共要抓幾筆\n",
    "target_sum = 10000\n",
    "#這台機器上現在做好幾筆了，設定成0就好\n",
    "current_sum = 0\n",
    "#每看一百次query寫一次topic_exist和topic_queue檔\n",
    "checkpoint = 0\n",
    "#繁體中文\n",
    "wiki.set_lang(\"zh-tw\")\n",
    "\n",
    "topic_exist = []\n",
    "topic_queue = []\n",
    "\n",
    "#拿好的摘要存進wiki.csv\n",
    "filename = 'wiki.csv'\n"
   ]
  },
  {
   "cell_type": "code",
   "execution_count": 3,
   "metadata": {},
   "outputs": [],
   "source": [
    "# 一開始趕著弄，邏輯一塌糊塗，簡單來說是把exist（已經訪問過的），和queue（打算要訪問的）先load進來\n",
    "\n",
    "topic_exist_tmp = []\n",
    "topic_queue_tmp = []\n",
    "\n",
    "with open('topic_exist.csv','r', encoding='utf-8') as csvfile:\n",
    "    rows = csv.reader(csvfile)\n",
    "    for row in rows:\n",
    "        topic_exist_tmp.append(row)\n",
    "with open('topic_queue.csv','r', encoding='utf-8') as csvfile:\n",
    "    rows = csv.reader(csvfile)\n",
    "    for row in rows:\n",
    "        topic_queue_tmp.append(row)       \n",
    "\n",
    "for item in topic_exist_tmp[0]:\n",
    "    topic_exist.append(item)\n",
    "for item in topic_queue_tmp[0]:\n",
    "    topic_queue.append(item)\n",
    "#其他機器在跑其他位置的queue，每次訪問會補queue，所以topic_queue選其中一小部分就好，他會自己變多，不超過一百萬\n",
    "queue_head = random.randint(1,500000)\n",
    "topic_queue = topic_queue[queue_head:]\n",
    "current_sum = 0\n"
   ]
  },
  {
   "cell_type": "code",
   "execution_count": 4,
   "metadata": {},
   "outputs": [],
   "source": [
    "def upload(filename,data):\n",
    "    with open(filename,'a', encoding='utf-8') as csvfile:\n",
    "        writer = csv.writer(csvfile, delimiter=',')\n",
    "        writer.writerow(data)\n",
    "\n",
    "def workingfile_upload(filename,data):\n",
    "    with open(filename,'w', encoding='utf-8') as csvfile:\n",
    "        writer = csv.writer(csvfile, delimiter=',')\n",
    "        writer.writerow(data)"
   ]
  },
  {
   "cell_type": "code",
   "execution_count": 5,
   "metadata": {},
   "outputs": [
    {
     "name": "stdout",
     "output_type": "stream",
     "text": [
      "Done, 12800 topics are saved.\n"
     ]
    }
   ],
   "source": [
    "while(current_sum < target_sum):\n",
    "    #read page\n",
    "    print('checking',topic_queue[0],'...')\n",
    "    page = source.page(topic_queue[0])\n",
    "    checkpoint = checkpoint+1\n",
    "    #if the page exists and we have not copied it yet, copy it\n",
    "    if page.exists() and topic_queue[0] not in topic_exist:\n",
    "        topic_exist.append(topic_queue[0])\n",
    "        #sometimes it doesn't work because of language or redirection issues\n",
    "        try:\n",
    "            page_en = page.langlinks['en']\n",
    "            upload('wiki.csv',[page.title,page.summary[:],page_en.title,page_en.summary[:]])\n",
    "            if(len(topic_queue)<1000000):\n",
    "                for title in page.links.keys():\n",
    "                    topic_queue.append(title)\n",
    "            current_sum = current_sum + 1\n",
    "        except:\n",
    "            print('something went wrong copying',topic_queue[0])\n",
    "    else:\n",
    "        print(topic_queue[0],'Not Found or Already Exist')\n",
    "    \n",
    "    if checkpoint%100==0:\n",
    "        try:\n",
    "            workingfile_upload('topic_exist.csv',topic_exist)\n",
    "            workingfile_upload('topic_queue.csv',topic_queue)\n",
    "        except:\n",
    "            print('failed to save topic_exist or topic_queue')\n",
    "        print('Amount of topics saved:',current_sum)\n",
    "    #丟掉用過的queue\n",
    "    del topic_queue[0]\n",
    "    #應該不會發生queue用完的悲劇啦\n",
    "    if len(topic_queue) == 0:\n",
    "        print('Oops, no topic left!')\n",
    "        break\n",
    "#維基伺服器一段時間就會讓我timeout（可能是八小時之類），應該是做不完，做多少算多少，程序死了之後直接再跑一次即可    \n",
    "print('Done,',current_sum,'topics are saved.') "
   ]
  }
 ],
 "metadata": {
  "kernelspec": {
   "display_name": "Python 3",
   "language": "python",
   "name": "python3"
  },
  "language_info": {
   "codemirror_mode": {
    "name": "ipython",
    "version": 3
   },
   "file_extension": ".py",
   "mimetype": "text/x-python",
   "name": "python",
   "nbconvert_exporter": "python",
   "pygments_lexer": "ipython3",
   "version": "3.6.6"
  }
 },
 "nbformat": 4,
 "nbformat_minor": 2
}
